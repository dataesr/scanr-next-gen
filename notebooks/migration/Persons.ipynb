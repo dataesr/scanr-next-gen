{
 "cells": [
  {
   "cell_type": "code",
   "execution_count": 1,
   "id": "7e87284b",
   "metadata": {},
   "outputs": [],
   "source": [
    "import requests"
   ]
  },
  {
   "cell_type": "code",
   "execution_count": 2,
   "id": "424ac5d6",
   "metadata": {},
   "outputs": [],
   "source": [
    "previous_api_url = 'https://scanr-api.enseignementsup-recherche.gouv.fr/api/v2/persons/search'\n",
    "new_api_url = 'https://scanr.dataesr.ovh/api/scanr-persons/_search'"
   ]
  },
  {
   "cell_type": "code",
   "execution_count": 5,
   "id": "0c9262fd",
   "metadata": {},
   "outputs": [],
   "source": [
    "user_input = 'eric jeangirard'"
   ]
  },
  {
   "cell_type": "markdown",
   "id": "9ee24cf8",
   "metadata": {},
   "source": [
    "## 1. Previous query"
   ]
  },
  {
   "cell_type": "code",
   "execution_count": 7,
   "id": "21bf7587",
   "metadata": {},
   "outputs": [
    {
     "data": {
      "text/plain": [
       "{'request': {'query': 'eric jeangirard',\n",
       "  'page': 0,\n",
       "  'pageSize': 20,\n",
       "  'lang': 'fr',\n",
       "  'searchFields': ['fullName'],\n",
       "  'filters': {},\n",
       "  'sourceFields': ['fullName',\n",
       "   'id',\n",
       "   'affiliations.structure.label.fr',\n",
       "   'affiliations.structure.address.city',\n",
       "   'keywords'],\n",
       "  'aggregations': {}},\n",
       " 'total': 1,\n",
       " 'results': [{'highlights': [{'type': 'fullName',\n",
       "     'value': '<strong>Eric</strong> <strong>Jeangirard</strong>'}],\n",
       "   'value': {'id': 'idref242241344',\n",
       "    'fullName': 'Eric Jeangirard',\n",
       "    'affiliations': [{'structure': {'label': {'fr': \"Ministère de l'éducation nationale, de la jeunesse et des sports\"},\n",
       "       'address': [{'city': 'Paris', 'main': False}]}}],\n",
       "    'keywords': {'default': ['Elasticsearch',\n",
       "      'Affiliation disambiguation',\n",
       "      'Entity recognition',\n",
       "      'Open science',\n",
       "      'Unpaywall',\n",
       "      'Clinical trials',\n",
       "      'Scientometrics',\n",
       "      'Journal business models',\n",
       "      'Observational studies',\n",
       "      'Open access',\n",
       "      'Subject classification',\n",
       "      'Fasttext',\n",
       "      'Word embeddings',\n",
       "      'Fields of research',\n",
       "      'publishing',\n",
       "      'scholarly communication',\n",
       "      'open science',\n",
       "      'open access',\n",
       "      'Publishing',\n",
       "      'Scholarly communication']}}}],\n",
       " 'facets': [{'id': 'facet_awards', 'entries': []},\n",
       "  {'id': 'facet_affiliation_structure_label',\n",
       "   'entries': [{'value': \"Ministère de l'éducation nationale, de la jeunesse et des sports\",\n",
       "     'count': 1,\n",
       "     'subFacets': []}]},\n",
       "  {'id': 'facet_badges', 'entries': []},\n",
       "  {'id': 'facet_localisations',\n",
       "   'entries': [{'value': 'Paris  7e', 'count': 1, 'subFacets': []},\n",
       "    {'value': 'Paris (75)', 'count': 1, 'subFacets': []},\n",
       "    {'value': 'Paris (académie)', 'count': 1, 'subFacets': []},\n",
       "    {'value': 'Paris (agglomération)', 'count': 1, 'subFacets': []},\n",
       "    {'value': 'Île-de-France', 'count': 1, 'subFacets': []}]}]}"
      ]
     },
     "execution_count": 7,
     "metadata": {},
     "output_type": "execute_result"
    }
   ],
   "source": [
    "body = {'query': user_input,\n",
    " 'lang': 'fr',\n",
    " 'page': '0',\n",
    " 'pageSize': '20',\n",
    " 'searchFields': ['fullName'],\n",
    " 'sourceFields': ['fullName',\n",
    "  'id',\n",
    "  'affiliations.structure.label.fr',\n",
    "  'affiliations.structure.address.city',\n",
    "  'keywords']}\n",
    "\n",
    "requests.post(previous_api_url, json=body).json()"
   ]
  },
  {
   "cell_type": "markdown",
   "id": "65b9e4b6",
   "metadata": {},
   "source": [
    "## 2. New query"
   ]
  },
  {
   "cell_type": "code",
   "execution_count": 23,
   "id": "a7c3fde3",
   "metadata": {},
   "outputs": [
    {
     "data": {
      "text/plain": [
       "{'took': 6,\n",
       " 'timed_out': False,\n",
       " '_shards': {'total': 1, 'successful': 1, 'skipped': 0, 'failed': 0},\n",
       " 'hits': {'total': {'value': 1, 'relation': 'eq'},\n",
       "  'max_score': 18.781094,\n",
       "  'hits': [{'_index': 'scanr-persons-20240412',\n",
       "    '_id': 'IcajCY8BqgRIMCR9-P0q',\n",
       "    '_score': 18.781094,\n",
       "    '_source': {'id': 'idref242241344',\n",
       "     'domains': [{'label': {'default': 'open science'}},\n",
       "      {'label': {'default': 'open science'}},\n",
       "      {'label': {'default': 'Open Access'}},\n",
       "      {'label': {'default': 'open access'}},\n",
       "      {'label': {'default': 'scholarly communication'}},\n",
       "      {'label': {'default': 'publishing'}},\n",
       "      {'label': {'default': 'scholarly communication'}},\n",
       "      {'label': {'default': 'science ouverte'}},\n",
       "      {'label': {'default': 'research data'}},\n",
       "      {'label': {'default': 'Scientometrics'}},\n",
       "      {'label': {'default': 'Scientometrics'}},\n",
       "      {'label': {'default': 'Elasticsearch'}},\n",
       "      {'label': {'default': 'entity recognition'}},\n",
       "      {'label': {'default': 'case study'}},\n",
       "      {'label': {'default': 'science Publishing'}},\n",
       "      {'label': {'default': 'article level'}},\n",
       "      {'label': {'default': 'Word embeddings'}},\n",
       "      {'label': {'default': 'Subject classification'}},\n",
       "      {'label': {'default': 'Fasttext'}},\n",
       "      {'label': {'default': 'Word embeddings'}},\n",
       "      {'label': {'default': 'Fields of research'}},\n",
       "      {'label': {'default': 'apprentissage automatique'}},\n",
       "      {'label': {'default': 'Baromètre'}},\n",
       "      {'label': {'default': 'bibliométrie'}},\n",
       "      {'label': {'default': 'Machine-Learning'}},\n",
       "      {'label': {'default': 'PDF'}},\n",
       "      {'label': {'default': 'Research software'}},\n",
       "      {'label': {'default': 'Research data'}},\n",
       "      {'label': {'default': 'Research software'}},\n",
       "      {'label': {'default': 'Elasticsearch'}},\n",
       "      {'label': {'default': 'Affiliation disambiguation'}},\n",
       "      {'label': {'default': 'Entity recognition'}},\n",
       "      {'label': {'default': 'Unpaywall'}},\n",
       "      {'label': {'default': 'Clinical trials'}},\n",
       "      {'label': {'default': 'business models'}},\n",
       "      {'label': {'default': 'Observational studies'}},\n",
       "      {'label': {'default': 'Unpaywall'}},\n",
       "      {'label': {'default': 'Clinical trials'}},\n",
       "      {'label': {'default': 'Journal business models'}},\n",
       "      {'label': {'default': 'Observational studies'}}],\n",
       "     'affiliations': [{'structure': {'mainAddress': {'city': 'Paris'},\n",
       "        'label': {'fr': \"Ministère de l'enseignement supérieur et de la recherche\"}}},\n",
       "      {'structure': {'mainAddress': {'city': 'Paris'},\n",
       "        'label': {'fr': \"Ministère de l'éducation nationale, de la jeunesse et des sports\"}}}],\n",
       "     'fullName': 'Eric Jeangirard'}}]}}"
      ]
     },
     "execution_count": 23,
     "metadata": {},
     "output_type": "execute_result"
    }
   ],
   "source": [
    "new_body = {\n",
    "    'query': {\n",
    "        'bool': {\n",
    "            'must': [\n",
    "                {\n",
    "                    'query_string': {\n",
    "                        'query': user_input,\n",
    "                        \"default_operator\": \"AND\",\n",
    "                        'fields': [ 'fullName']\n",
    "\n",
    "                    }\n",
    "                }\n",
    "            ],\n",
    "         },\n",
    " },\n",
    " 'from': '0',\n",
    " 'size': '20',\n",
    " '_source': ['id', 'fullName', \n",
    "             'domains.label', \n",
    "             'affiliations.structure.label.fr',\n",
    "             'affiliations.structure.mainAddress.city', \n",
    "             ]\n",
    "}\n",
    "\n",
    "\n",
    "requests.post(new_api_url, json=new_body).json()"
   ]
  }
 ],
 "metadata": {
  "kernelspec": {
   "display_name": "Python 3",
   "language": "python",
   "name": "python3"
  },
  "language_info": {
   "codemirror_mode": {
    "name": "ipython",
    "version": 3
   },
   "file_extension": ".py",
   "mimetype": "text/x-python",
   "name": "python",
   "nbconvert_exporter": "python",
   "pygments_lexer": "ipython3",
   "version": "3.9.18"
  }
 },
 "nbformat": 4,
 "nbformat_minor": 5
}
